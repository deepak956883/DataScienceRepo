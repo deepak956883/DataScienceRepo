{
 "cells": [
  {
   "cell_type": "markdown",
   "id": "f96170b1",
   "metadata": {},
   "source": [
    "<h1>My Jupyter Notebook on IBM Watson Studio</h1>"
   ]
  },
  {
   "cell_type": "markdown",
   "id": "06580c60",
   "metadata": {},
   "source": [
    "<b>DEEPAK KUMAR</b>\n",
    "<br>\n",
    "Data Scientist"
   ]
  },
  {
   "cell_type": "markdown",
   "id": "1b7dc814",
   "metadata": {},
   "source": [
    "<i>I am interested in Data Science because , I want to contribute toward quality and affordatble agriculture and healthcare in the future</i>"
   ]
  },
  {
   "cell_type": "markdown",
   "id": "2ad6f6dc",
   "metadata": {},
   "source": [
    "<h3>The code below will print the sum of two numbers.</h3>"
   ]
  },
  {
   "cell_type": "code",
   "execution_count": 5,
   "id": "20ac4d99",
   "metadata": {},
   "outputs": [
    {
     "name": "stdout",
     "output_type": "stream",
     "text": [
      "first number: 54\n",
      "Second number: 34\n",
      "The sum of 54 and 34 is 88.0\n"
     ]
    }
   ],
   "source": [
    "# taking the user input and storing them in the val1 and val2\n",
    "val1 = input('first number: ')\n",
    "val2 = input('Second number: ')\n",
    "\n",
    "# Using the addition rule for two values\n",
    "sum = float(val1) + float(val2)\n",
    "\n",
    "# printing the result\n",
    "print('The sum of {0} and {1} is {2}'.format(val1, val2, sum))"
   ]
  },
  {
   "cell_type": "markdown",
   "id": "b9ebf9d2",
   "metadata": {},
   "source": [
    "<a href=\"https://www.coursera.org\">Visit W3Schools.com!</a>\n",
    "<ul>\n",
    "  <li>Data Science</li>\n",
    "  <li>Artificial Intelligence</li>\n",
    "  <li>Computer Science</li>\n",
    "</ul>\n",
    "<img src=\"bird_pic.jpg\" alt=\"Bird Image\">\n",
    "<blockquote cite=\"http://www.coursera.org\">\n",
    "The best place for e-learning!\n",
    "</blockquote>"
   ]
  },
  {
   "cell_type": "code",
   "execution_count": null,
   "id": "44648c31",
   "metadata": {},
   "outputs": [],
   "source": []
  },
  {
   "cell_type": "code",
   "execution_count": null,
   "id": "764422e9",
   "metadata": {},
   "outputs": [],
   "source": []
  }
 ],
 "metadata": {
  "kernelspec": {
   "display_name": "Python 3 (ipykernel)",
   "language": "python",
   "name": "python3"
  },
  "language_info": {
   "codemirror_mode": {
    "name": "ipython",
    "version": 3
   },
   "file_extension": ".py",
   "mimetype": "text/x-python",
   "name": "python",
   "nbconvert_exporter": "python",
   "pygments_lexer": "ipython3",
   "version": "3.9.12"
  }
 },
 "nbformat": 4,
 "nbformat_minor": 5
}

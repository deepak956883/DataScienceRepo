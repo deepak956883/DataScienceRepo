{
    "cells": [
        {
            "cell_type": "code",
            "execution_count": 2,
            "metadata": {},
            "outputs": [
                {
                    "data": {
                        "text/html": "<div>\n<style scoped>\n    .dataframe tbody tr th:only-of-type {\n        vertical-align: middle;\n    }\n\n    .dataframe tbody tr th {\n        vertical-align: top;\n    }\n\n    .dataframe thead th {\n        text-align: right;\n    }\n</style>\n<table border=\"1\" class=\"dataframe\">\n  <thead>\n    <tr style=\"text-align: right;\">\n      <th></th>\n      <th>Year</th>\n      <th>Industry_aggregation_NZSIOC</th>\n      <th>Industry_code_NZSIOC</th>\n      <th>Industry_name_NZSIOC</th>\n      <th>Units</th>\n      <th>Variable_code</th>\n      <th>Variable_name</th>\n      <th>Variable_category</th>\n      <th>Value</th>\n      <th>Industry_code_ANZSIC06</th>\n    </tr>\n  </thead>\n  <tbody>\n    <tr>\n      <th>0</th>\n      <td>2021</td>\n      <td>Level 1</td>\n      <td>99999</td>\n      <td>All industries</td>\n      <td>Dollars (millions)</td>\n      <td>H01</td>\n      <td>Total income</td>\n      <td>Financial performance</td>\n      <td>757,504</td>\n      <td>ANZSIC06 divisions A-S (excluding classes K633...</td>\n    </tr>\n    <tr>\n      <th>1</th>\n      <td>2021</td>\n      <td>Level 1</td>\n      <td>99999</td>\n      <td>All industries</td>\n      <td>Dollars (millions)</td>\n      <td>H04</td>\n      <td>Sales, government funding, grants and subsidies</td>\n      <td>Financial performance</td>\n      <td>674,890</td>\n      <td>ANZSIC06 divisions A-S (excluding classes K633...</td>\n    </tr>\n    <tr>\n      <th>2</th>\n      <td>2021</td>\n      <td>Level 1</td>\n      <td>99999</td>\n      <td>All industries</td>\n      <td>Dollars (millions)</td>\n      <td>H05</td>\n      <td>Interest, dividends and donations</td>\n      <td>Financial performance</td>\n      <td>49,593</td>\n      <td>ANZSIC06 divisions A-S (excluding classes K633...</td>\n    </tr>\n    <tr>\n      <th>3</th>\n      <td>2021</td>\n      <td>Level 1</td>\n      <td>99999</td>\n      <td>All industries</td>\n      <td>Dollars (millions)</td>\n      <td>H07</td>\n      <td>Non-operating income</td>\n      <td>Financial performance</td>\n      <td>33,020</td>\n      <td>ANZSIC06 divisions A-S (excluding classes K633...</td>\n    </tr>\n    <tr>\n      <th>4</th>\n      <td>2021</td>\n      <td>Level 1</td>\n      <td>99999</td>\n      <td>All industries</td>\n      <td>Dollars (millions)</td>\n      <td>H08</td>\n      <td>Total expenditure</td>\n      <td>Financial performance</td>\n      <td>654,404</td>\n      <td>ANZSIC06 divisions A-S (excluding classes K633...</td>\n    </tr>\n  </tbody>\n</table>\n</div>",
                        "text/plain": "   Year Industry_aggregation_NZSIOC Industry_code_NZSIOC Industry_name_NZSIOC  \\\n0  2021                     Level 1                99999       All industries   \n1  2021                     Level 1                99999       All industries   \n2  2021                     Level 1                99999       All industries   \n3  2021                     Level 1                99999       All industries   \n4  2021                     Level 1                99999       All industries   \n\n                Units Variable_code  \\\n0  Dollars (millions)           H01   \n1  Dollars (millions)           H04   \n2  Dollars (millions)           H05   \n3  Dollars (millions)           H07   \n4  Dollars (millions)           H08   \n\n                                     Variable_name      Variable_category  \\\n0                                     Total income  Financial performance   \n1  Sales, government funding, grants and subsidies  Financial performance   \n2                Interest, dividends and donations  Financial performance   \n3                             Non-operating income  Financial performance   \n4                                Total expenditure  Financial performance   \n\n     Value                             Industry_code_ANZSIC06  \n0  757,504  ANZSIC06 divisions A-S (excluding classes K633...  \n1  674,890  ANZSIC06 divisions A-S (excluding classes K633...  \n2   49,593  ANZSIC06 divisions A-S (excluding classes K633...  \n3   33,020  ANZSIC06 divisions A-S (excluding classes K633...  \n4  654,404  ANZSIC06 divisions A-S (excluding classes K633...  "
                    },
                    "execution_count": 2,
                    "metadata": {},
                    "output_type": "execute_result"
                }
            ],
            "source": "# The code was removed by Watson Studio for sharing."
        },
        {
            "cell_type": "code",
            "execution_count": null,
            "metadata": {},
            "outputs": [],
            "source": ""
        },
        {
            "cell_type": "code",
            "execution_count": null,
            "metadata": {},
            "outputs": [],
            "source": ""
        }
    ],
    "metadata": {
        "kernelspec": {
            "display_name": "Python 3.9",
            "language": "python",
            "name": "python3"
        },
        "language_info": {
            "codemirror_mode": {
                "name": "ipython",
                "version": 3
            },
            "file_extension": ".py",
            "mimetype": "text/x-python",
            "name": "python",
            "nbconvert_exporter": "python",
            "pygments_lexer": "ipython3",
            "version": "3.9.12"
        }
    },
    "nbformat": 4,
    "nbformat_minor": 1
}